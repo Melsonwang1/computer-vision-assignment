{
  "nbformat": 4,
  "nbformat_minor": 0,
  "metadata": {
    "colab": {
      "provenance": [],
      "gpuType": "T4",
      "include_colab_link": true
    },
    "kernelspec": {
      "name": "python3",
      "display_name": "Python 3"
    },
    "language_info": {
      "name": "python"
    },
    "accelerator": "GPU"
  },
  "cells": [
    {
      "cell_type": "markdown",
      "metadata": {
        "id": "view-in-github",
        "colab_type": "text"
      },
      "source": [
        "<a href=\"https://colab.research.google.com/github/Melsonwang1/CVNL-assignment/blob/main/CNN.ipynb\" target=\"_parent\"><img src=\"https://colab.research.google.com/assets/colab-badge.svg\" alt=\"Open In Colab\"/></a>"
      ]
    },
    {
      "cell_type": "code",
      "source": [
        "from google.colab import drive\n",
        "drive.mount('/content/drive')\n"
      ],
      "metadata": {
        "id": "WpxIlNo_42LW",
        "outputId": "55cf9910-3a67-40bd-fd9a-c2b671ec19de",
        "colab": {
          "base_uri": "https://localhost:8080/"
        }
      },
      "execution_count": null,
      "outputs": [
        {
          "output_type": "stream",
          "name": "stdout",
          "text": [
            "Drive already mounted at /content/drive; to attempt to forcibly remount, call drive.mount(\"/content/drive\", force_remount=True).\n"
          ]
        }
      ]
    },
    {
      "cell_type": "code",
      "source": [
        "!ls /content/drive/MyDrive/Colab\\ Notebooks/\n"
      ],
      "metadata": {
        "id": "xh8weP1L-0hN",
        "outputId": "f0986d1c-94e5-47ee-8564-d530da8f7a6d",
        "colab": {
          "base_uri": "https://localhost:8080/"
        }
      },
      "execution_count": null,
      "outputs": [
        {
          "output_type": "stream",
          "name": "stdout",
          "text": [
            "'archive (3).zip'     __pycache__  'Untitled (1)'\t\t       Week02_Exercises.ipynb\n",
            " hillclimbing.ipynb   RNN.ipynb    'Week01_IntroToPyTorch (1).ipynb'   Week02_PyTorchII.ipynb\n",
            " idlmam.py\t      Untitled\t    Week01_IntroToPyTorch.ipynb        Week07_CNN_II_Exercise.ipynb\n"
          ]
        }
      ]
    },
    {
      "cell_type": "code",
      "source": [
        "!unzip \"/content/drive/MyDrive/Colab Notebooks/archive (3).zip\" -d \"/content/asl_dataset\"\n"
      ],
      "metadata": {
        "id": "vfLWrUX-_QSP",
        "outputId": "3f126572-93e5-4b2c-a53b-dad80e55b528",
        "colab": {
          "base_uri": "https://localhost:8080/"
        }
      },
      "execution_count": null,
      "outputs": [
        {
          "output_type": "stream",
          "name": "stdout",
          "text": [
            "Archive:  /content/drive/MyDrive/Colab Notebooks/archive (3).zip\n",
            "replace /content/asl_dataset/asl_alphabet_test/asl_alphabet_test/A_test.jpg? [y]es, [n]o, [A]ll, [N]one, [r]ename: n\n",
            "replace /content/asl_dataset/asl_alphabet_test/asl_alphabet_test/B_test.jpg? [y]es, [n]o, [A]ll, [N]one, [r]ename: N\n"
          ]
        }
      ]
    },
    {
      "cell_type": "code",
      "source": [
        "!ls /content/asl_dataset\n"
      ],
      "metadata": {
        "id": "Nf16zhCk_T6W",
        "outputId": "b0a4d50a-6d0d-48e9-a1e1-905c52df2762",
        "colab": {
          "base_uri": "https://localhost:8080/"
        }
      },
      "execution_count": null,
      "outputs": [
        {
          "output_type": "stream",
          "name": "stdout",
          "text": [
            "asl_alphabet_test  asl_alphabet_train\n"
          ]
        }
      ]
    },
    {
      "cell_type": "code",
      "source": [
        "import torch\n",
        "import torch.nn as nn\n",
        "import torch.optim as optim\n",
        "from torchvision import datasets, transforms\n",
        "from torch.utils.data import DataLoader, random_split\n",
        "import matplotlib.pyplot as plt\n",
        "import seaborn as sns\n",
        "import numpy as np\n",
        "from sklearn.metrics import classification_report, confusion_matrix, accuracy_score, f1_score"
      ],
      "metadata": {
        "id": "kcemv5J6DVSJ"
      },
      "execution_count": null,
      "outputs": []
    },
    {
      "cell_type": "code",
      "source": [
        "# Set device\n",
        "device = torch.device('cuda' if torch.cuda.is_available() else 'cpu')"
      ],
      "metadata": {
        "id": "oC9nW1bWEoEz"
      },
      "execution_count": null,
      "outputs": []
    },
    {
      "cell_type": "code",
      "source": [
        "\n",
        "# Hyperparameters\n",
        "batch_size = 64\n",
        "learning_rate = 0.001\n",
        "num_epochs = 5\n",
        "image_size = 64  # Resize all images to 64x64"
      ],
      "metadata": {
        "id": "KN1RFZanEq1Q"
      },
      "execution_count": null,
      "outputs": []
    },
    {
      "cell_type": "code",
      "source": [
        "# Data Augmentation and Normalization\n",
        "transform = transforms.Compose([\n",
        "    transforms.Resize((image_size, image_size)),\n",
        "    transforms.RandomHorizontalFlip(),\n",
        "    transforms.RandomRotation(10),\n",
        "    transforms.ToTensor(),\n",
        "    transforms.Normalize((0.5,), (0.5,))\n",
        "])"
      ],
      "metadata": {
        "id": "KSc_p1U_EtRc"
      },
      "execution_count": null,
      "outputs": []
    },
    {
      "cell_type": "code",
      "source": [
        "# Load Dataset\n",
        "dataset = datasets.ImageFolder('/content/asl_dataset', transform=transform)\n",
        "class_names = dataset.classes\n",
        "num_classes = len(class_names)"
      ],
      "metadata": {
        "id": "ub0Le06DEwYW"
      },
      "execution_count": null,
      "outputs": []
    },
    {
      "cell_type": "code",
      "source": [
        "# Split Dataset\n",
        "train_size = int(0.8 * len(dataset))\n",
        "val_size = int(0.1 * len(dataset))\n",
        "test_size = len(dataset) - train_size - val_size\n",
        "train_data, val_data, test_data = random_split(dataset, [train_size, val_size, test_size])"
      ],
      "metadata": {
        "id": "MmiDJIZEEzkc"
      },
      "execution_count": null,
      "outputs": []
    },
    {
      "cell_type": "code",
      "source": [
        "# Define CNN model (unchanged)\n",
        "class CNN(nn.Module):\n",
        "    def __init__(self, num_classes):\n",
        "        super(CNN, self).__init__()\n",
        "        self.conv_layers = nn.Sequential(\n",
        "            nn.Conv2d(3, 32, kernel_size=3, stride=1, padding=1),\n",
        "            nn.ReLU(),\n",
        "            nn.MaxPool2d(kernel_size=2, stride=2),\n",
        "            nn.Conv2d(32, 64, kernel_size=3, stride=1, padding=1),\n",
        "            nn.ReLU(),\n",
        "            nn.MaxPool2d(kernel_size=2, stride=2),\n",
        "            nn.Conv2d(64, 128, kernel_size=3, stride=1, padding=1),\n",
        "            nn.ReLU(),\n",
        "            nn.MaxPool2d(kernel_size=2, stride=2)\n",
        "        )\n",
        "        self.fc_layers = nn.Sequential(\n",
        "            nn.Flatten(),\n",
        "            nn.Linear(128 * (image_size // 8) * (image_size // 8), 256),\n",
        "            nn.ReLU(),\n",
        "            nn.Dropout(0.5),\n",
        "            nn.Linear(256, num_classes)\n",
        "        )\n",
        "\n",
        "    def forward(self, x):\n",
        "        x = self.conv_layers(x)\n",
        "        x = self.fc_layers(x)\n",
        "        return x"
      ],
      "metadata": {
        "id": "2xi0D_oFE33r"
      },
      "execution_count": null,
      "outputs": []
    },
    {
      "cell_type": "code",
      "source": [
        "# Training function\n",
        "def train_model(model, train_loader, val_loader, criterion, optimizer, num_epochs):\n",
        "    train_losses, val_losses = [], []\n",
        "    for epoch in range(num_epochs):\n",
        "        model.train()\n",
        "        running_loss = 0.0\n",
        "        for images, labels in train_loader:\n",
        "            images, labels = images.to(device), labels.to(device)\n",
        "            optimizer.zero_grad()\n",
        "            outputs = model(images)\n",
        "            loss = criterion(outputs, labels)\n",
        "            loss.backward()\n",
        "            optimizer.step()\n",
        "            running_loss += loss.item()\n",
        "        train_losses.append(running_loss / len(train_loader))\n",
        "\n",
        "        # Validation loss\n",
        "        model.eval()\n",
        "        val_loss = 0.0\n",
        "        with torch.no_grad():\n",
        "            for images, labels in val_loader:\n",
        "                images, labels = images.to(device), labels.to(device)\n",
        "                outputs = model(images)\n",
        "                loss = criterion(outputs, labels)\n",
        "                val_loss += loss.item()\n",
        "        val_losses.append(val_loss / len(val_loader))\n",
        "\n",
        "    return train_losses, val_losses\n",
        "\n",
        "\n",
        "# Run experiments for SGD, GD, and MBGD\n",
        "batch_sizes = {'SGD': 1, 'GD': len(train_data), 'MBGD': 64}\n",
        "results = {}\n",
        "\n",
        "for name, batch_size in batch_sizes.items():\n",
        "    # Create DataLoader with specified batch size\n",
        "    train_loader = DataLoader(train_data, batch_size=batch_size, shuffle=True)\n",
        "    val_loader = DataLoader(val_data, batch_size=batch_size, shuffle=False)\n",
        "\n",
        "    # Create new model and optimizer\n",
        "    model = CNN(num_classes).to(device)\n",
        "    optimizer = optim.SGD(model.parameters(), lr=learning_rate, momentum=0.9)\n",
        "    criterion = nn.CrossEntropyLoss()\n",
        "\n",
        "    # Train model\n",
        "    print(f\"Training with {name}...\")\n",
        "    train_losses, val_losses = train_model(model, train_loader, val_loader, criterion, optimizer, num_epochs)\n",
        "    results[name] = (train_losses, val_losses)\n",
        "\n",
        "\n",
        "# Plot comparison of losses\n",
        "plt.figure(figsize=(12, 6))\n",
        "for name, (train_losses, val_losses) in results.items():\n",
        "    plt.plot(train_losses, label=f\"{name} Train Loss\")\n",
        "    plt.plot(val_losses, label=f\"{name} Val Loss\")\n",
        "plt.xlabel(\"Epochs\")\n",
        "plt.ylabel(\"Loss\")\n",
        "plt.title(\"Loss Comparison: SGD, GD, MBGD\")\n",
        "plt.legend()\n",
        "plt.show()"
      ],
      "metadata": {
        "id": "UB9Oge6xE-L8"
      },
      "execution_count": null,
      "outputs": []
    },
    {
      "cell_type": "code",
      "source": [
        "def train_model_with_metrics(model, train_loader, val_loader, criterion, optimizer, num_epochs):\n",
        "    train_metrics = {'loss': [], 'accuracy': [], 'precision': [], 'recall': [], 'f1': []}\n",
        "    val_metrics = {'loss': [], 'accuracy': [], 'precision': [], 'recall': [], 'f1': []}\n",
        "\n",
        "    for epoch in range(num_epochs):\n",
        "        # Training Phase\n",
        "        model.train()\n",
        "        train_loss = 0.0\n",
        "        y_true_train, y_pred_train = [], []\n",
        "        for images, labels in train_loader:\n",
        "            images, labels = images.to(device), labels.to(device)\n",
        "            optimizer.zero_grad()\n",
        "            outputs = model(images)\n",
        "            loss = criterion(outputs, labels)\n",
        "            loss.backward()\n",
        "            optimizer.step()\n",
        "            train_loss += loss.item()\n",
        "\n",
        "            _, preds = torch.max(outputs, 1)\n",
        "            y_true_train.extend(labels.cpu().numpy())\n",
        "            y_pred_train.extend(preds.cpu().numpy())\n",
        "\n",
        "        train_metrics['loss'].append(train_loss / len(train_loader))\n",
        "        train_metrics['accuracy'].append(accuracy_score(y_true_train, y_pred_train))\n",
        "        train_metrics['precision'].append(precision_score(y_true_train, y_pred_train, average='weighted'))\n",
        "        train_metrics['recall'].append(recall_score(y_true_train, y_pred_train, average='weighted'))\n",
        "        train_metrics['f1'].append(f1_score(y_true_train, y_pred_train, average='weighted'))\n",
        "\n",
        "        # Validation Phase\n",
        "        model.eval()\n",
        "        val_loss = 0.0\n",
        "        y_true_val, y_pred_val = [], []\n",
        "        with torch.no_grad():\n",
        "            for images, labels in val_loader:\n",
        "                images, labels = images.to(device), labels.to(device)\n",
        "                outputs = model(images)\n",
        "                loss = criterion(outputs, labels)\n",
        "                val_loss += loss.item()\n",
        "\n",
        "                _, preds = torch.max(outputs, 1)\n",
        "                y_true_val.extend(labels.cpu().numpy())\n",
        "                y_pred_val.extend(preds.cpu().numpy())\n",
        "\n",
        "        val_metrics['loss'].append(val_loss / len(val_loader))\n",
        "        val_metrics['accuracy'].append(accuracy_score(y_true_val, y_pred_val))\n",
        "        val_metrics['precision'].append(precision_score(y_true_val, y_pred_val, average='weighted'))\n",
        "        val_metrics['recall'].append(recall_score(y_true_val, y_pred_val, average='weighted'))\n",
        "        val_metrics['f1'].append(f1_score(y_true_val, y_pred_val, average='weighted'))\n",
        "\n",
        "        # Print progress\n",
        "        print(f\"Epoch [{epoch+1}/{num_epochs}]\")\n",
        "        print(f\"Train Loss: {train_metrics['loss'][-1]:.4f}, Val Loss: {val_metrics['loss'][-1]:.4f}\")\n",
        "        print(f\"Train Accuracy: {train_metrics['accuracy'][-1]:.4f}, Val Accuracy: {val_metrics['accuracy'][-1]:.4f}\\n\")\n",
        "\n",
        "    return train_metrics, val_metrics\n",
        "\n"
      ],
      "metadata": {
        "id": "JPI7fKGa-WW4"
      },
      "execution_count": null,
      "outputs": []
    },
    {
      "cell_type": "code",
      "source": [
        "# Train the model\n",
        "train_metrics, val_metrics = train_model_with_metrics(model, train_loader, val_loader, criterion, optimizer, num_epochs)\n",
        "\n",
        "# Plot Training vs Validation Metrics\n",
        "metrics_to_plot = ['loss', 'accuracy', 'precision', 'recall', 'f1']\n",
        "plt.figure(figsize=(20, 10))\n",
        "for i, metric in enumerate(metrics_to_plot, 1):\n",
        "    plt.subplot(2, 3, i)\n",
        "    plt.plot(train_metrics[metric], label='Train')\n",
        "    plt.plot(val_metrics[metric], label='Validation')\n",
        "    plt.title(f\"Train vs Validation {metric.capitalize()}\")\n",
        "    plt.xlabel(\"Epochs\")\n",
        "    plt.ylabel(metric.capitalize())\n",
        "    plt.legend()\n",
        "\n",
        "plt.tight_layout()\n",
        "plt.show()\n"
      ],
      "metadata": {
        "id": "BM2cMRfkDYCN"
      },
      "execution_count": null,
      "outputs": []
    }
  ]
}